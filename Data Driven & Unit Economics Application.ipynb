{
  "nbformat": 4,
  "nbformat_minor": 0,
  "metadata": {
    "colab": {
      "provenance": []
    },
    "kernelspec": {
      "name": "python3",
      "display_name": "Python 3"
    },
    "language_info": {
      "name": "python"
    }
  },
  "cells": [
    {
      "cell_type": "code",
      "execution_count": 1,
      "metadata": {
        "id": "vaTr8F76FUll"
      },
      "outputs": [],
      "source": [
        "# import data\n",
        "\n",
        "import pandas as pd\n",
        "\n",
        "monthly_expense = pd.read_excel('https://docs.google.com/spreadsheets/d/' + '10OGbaywwMIqKgnPGy8VDvpBVtjyqln47iYa2lFhI9Mw' + '/export?format=xlsx', sheet_name='Sheet1')\n",
        "customer_lifespan_data = pd.read_excel('https://docs.google.com/spreadsheets/d/' + '1by8tPHwOnq3uKYK2E7sA9VBUYoPM4p1Rnrm_Ss9cyHI' + '/export?format=xlsx', sheet_name='Sheet1')\n",
        "daily_marketing_spendings = pd.read_excel('https://docs.google.com/spreadsheets/d/' + '1AZOIThOV4P-0eYDge53ZwumVkfkHoYPWxst3k3Bv87c' + '/export?format=xlsx', sheet_name='Sheet1')\n",
        "Payroll = pd.read_excel('https://docs.google.com/spreadsheets/d/' + '1c_WihqTZCQvNgxzmd-OwhR9i5diwtfxXVLyMn8R-Lp4' + '/export?format=xlsx', sheet_name='Sheet1')\n",
        "receipts_history = pd.read_excel('https://docs.google.com/spreadsheets/d/' + '1qayqML1zCKdmtzutkcy9LWvE6xFRm6TGBEVkHHJKIuE' + '/export?format=xlsx', sheet_name='Sheet1')\n"
      ]
    },
    {
      "cell_type": "markdown",
      "source": [
        "# 1.CAC"
      ],
      "metadata": {
        "id": "0Q7IZ6n9JwMh"
      }
    },
    {
      "cell_type": "markdown",
      "source": [
        "## 1.1. Sales Expense\n",
        "\n",
        "We will calculate the sales expenses. In this case, it is the expense for **Salesforce Software Licenses** which can be found in the **monthly_expense** dataframe"
      ],
      "metadata": {
        "id": "Z2ZHmGGvMXqf"
      }
    },
    {
      "cell_type": "code",
      "source": [
        "# Extract last month\n",
        "\n",
        "last_month = monthly_expense['month'].max().month\n",
        "\n",
        "# Last month expense\n",
        "\n",
        "cond = monthly_expense['month'].dt.month == last_month\n",
        "last_month_expense = monthly_expense[cond]\n",
        "last_month_expense.head()"
      ],
      "metadata": {
        "colab": {
          "base_uri": "https://localhost:8080/",
          "height": 206
        },
        "id": "cIY2BpEtG_8Z",
        "outputId": "ed2daf8f-3552-4671-e79d-f6eb2767b2cb"
      },
      "execution_count": 2,
      "outputs": [
        {
          "output_type": "execute_result",
          "data": {
            "text/plain": [
              "     #      month           category                  item  amount\n",
              "18  19 2023-03-01       Server Costs           AWS Hosting    8400\n",
              "19  20 2023-03-01       Server Costs  Google Cloud Storage    4400\n",
              "20  21 2023-03-01  Software Licenses        Atlassian Jira    1400\n",
              "21  22 2023-03-01  Software Licenses                 Slack     900\n",
              "22  23 2023-03-01  Software Licenses            Salesforce    1700"
            ],
            "text/html": [
              "\n",
              "  <div id=\"df-03ae8545-3fac-4790-bf97-2d7318426cfe\" class=\"colab-df-container\">\n",
              "    <div>\n",
              "<style scoped>\n",
              "    .dataframe tbody tr th:only-of-type {\n",
              "        vertical-align: middle;\n",
              "    }\n",
              "\n",
              "    .dataframe tbody tr th {\n",
              "        vertical-align: top;\n",
              "    }\n",
              "\n",
              "    .dataframe thead th {\n",
              "        text-align: right;\n",
              "    }\n",
              "</style>\n",
              "<table border=\"1\" class=\"dataframe\">\n",
              "  <thead>\n",
              "    <tr style=\"text-align: right;\">\n",
              "      <th></th>\n",
              "      <th>#</th>\n",
              "      <th>month</th>\n",
              "      <th>category</th>\n",
              "      <th>item</th>\n",
              "      <th>amount</th>\n",
              "    </tr>\n",
              "  </thead>\n",
              "  <tbody>\n",
              "    <tr>\n",
              "      <th>18</th>\n",
              "      <td>19</td>\n",
              "      <td>2023-03-01</td>\n",
              "      <td>Server Costs</td>\n",
              "      <td>AWS Hosting</td>\n",
              "      <td>8400</td>\n",
              "    </tr>\n",
              "    <tr>\n",
              "      <th>19</th>\n",
              "      <td>20</td>\n",
              "      <td>2023-03-01</td>\n",
              "      <td>Server Costs</td>\n",
              "      <td>Google Cloud Storage</td>\n",
              "      <td>4400</td>\n",
              "    </tr>\n",
              "    <tr>\n",
              "      <th>20</th>\n",
              "      <td>21</td>\n",
              "      <td>2023-03-01</td>\n",
              "      <td>Software Licenses</td>\n",
              "      <td>Atlassian Jira</td>\n",
              "      <td>1400</td>\n",
              "    </tr>\n",
              "    <tr>\n",
              "      <th>21</th>\n",
              "      <td>22</td>\n",
              "      <td>2023-03-01</td>\n",
              "      <td>Software Licenses</td>\n",
              "      <td>Slack</td>\n",
              "      <td>900</td>\n",
              "    </tr>\n",
              "    <tr>\n",
              "      <th>22</th>\n",
              "      <td>23</td>\n",
              "      <td>2023-03-01</td>\n",
              "      <td>Software Licenses</td>\n",
              "      <td>Salesforce</td>\n",
              "      <td>1700</td>\n",
              "    </tr>\n",
              "  </tbody>\n",
              "</table>\n",
              "</div>\n",
              "    <div class=\"colab-df-buttons\">\n",
              "\n",
              "  <div class=\"colab-df-container\">\n",
              "    <button class=\"colab-df-convert\" onclick=\"convertToInteractive('df-03ae8545-3fac-4790-bf97-2d7318426cfe')\"\n",
              "            title=\"Convert this dataframe to an interactive table.\"\n",
              "            style=\"display:none;\">\n",
              "\n",
              "  <svg xmlns=\"http://www.w3.org/2000/svg\" height=\"24px\" viewBox=\"0 -960 960 960\">\n",
              "    <path d=\"M120-120v-720h720v720H120Zm60-500h600v-160H180v160Zm220 220h160v-160H400v160Zm0 220h160v-160H400v160ZM180-400h160v-160H180v160Zm440 0h160v-160H620v160ZM180-180h160v-160H180v160Zm440 0h160v-160H620v160Z\"/>\n",
              "  </svg>\n",
              "    </button>\n",
              "\n",
              "  <style>\n",
              "    .colab-df-container {\n",
              "      display:flex;\n",
              "      gap: 12px;\n",
              "    }\n",
              "\n",
              "    .colab-df-convert {\n",
              "      background-color: #E8F0FE;\n",
              "      border: none;\n",
              "      border-radius: 50%;\n",
              "      cursor: pointer;\n",
              "      display: none;\n",
              "      fill: #1967D2;\n",
              "      height: 32px;\n",
              "      padding: 0 0 0 0;\n",
              "      width: 32px;\n",
              "    }\n",
              "\n",
              "    .colab-df-convert:hover {\n",
              "      background-color: #E2EBFA;\n",
              "      box-shadow: 0px 1px 2px rgba(60, 64, 67, 0.3), 0px 1px 3px 1px rgba(60, 64, 67, 0.15);\n",
              "      fill: #174EA6;\n",
              "    }\n",
              "\n",
              "    .colab-df-buttons div {\n",
              "      margin-bottom: 4px;\n",
              "    }\n",
              "\n",
              "    [theme=dark] .colab-df-convert {\n",
              "      background-color: #3B4455;\n",
              "      fill: #D2E3FC;\n",
              "    }\n",
              "\n",
              "    [theme=dark] .colab-df-convert:hover {\n",
              "      background-color: #434B5C;\n",
              "      box-shadow: 0px 1px 3px 1px rgba(0, 0, 0, 0.15);\n",
              "      filter: drop-shadow(0px 1px 2px rgba(0, 0, 0, 0.3));\n",
              "      fill: #FFFFFF;\n",
              "    }\n",
              "  </style>\n",
              "\n",
              "    <script>\n",
              "      const buttonEl =\n",
              "        document.querySelector('#df-03ae8545-3fac-4790-bf97-2d7318426cfe button.colab-df-convert');\n",
              "      buttonEl.style.display =\n",
              "        google.colab.kernel.accessAllowed ? 'block' : 'none';\n",
              "\n",
              "      async function convertToInteractive(key) {\n",
              "        const element = document.querySelector('#df-03ae8545-3fac-4790-bf97-2d7318426cfe');\n",
              "        const dataTable =\n",
              "          await google.colab.kernel.invokeFunction('convertToInteractive',\n",
              "                                                    [key], {});\n",
              "        if (!dataTable) return;\n",
              "\n",
              "        const docLinkHtml = 'Like what you see? Visit the ' +\n",
              "          '<a target=\"_blank\" href=https://colab.research.google.com/notebooks/data_table.ipynb>data table notebook</a>'\n",
              "          + ' to learn more about interactive tables.';\n",
              "        element.innerHTML = '';\n",
              "        dataTable['output_type'] = 'display_data';\n",
              "        await google.colab.output.renderOutput(dataTable, element);\n",
              "        const docLink = document.createElement('div');\n",
              "        docLink.innerHTML = docLinkHtml;\n",
              "        element.appendChild(docLink);\n",
              "      }\n",
              "    </script>\n",
              "  </div>\n",
              "\n",
              "\n",
              "<div id=\"df-2bcaa874-a985-4685-8671-7e3277356b38\">\n",
              "  <button class=\"colab-df-quickchart\" onclick=\"quickchart('df-2bcaa874-a985-4685-8671-7e3277356b38')\"\n",
              "            title=\"Suggest charts\"\n",
              "            style=\"display:none;\">\n",
              "\n",
              "<svg xmlns=\"http://www.w3.org/2000/svg\" height=\"24px\"viewBox=\"0 0 24 24\"\n",
              "     width=\"24px\">\n",
              "    <g>\n",
              "        <path d=\"M19 3H5c-1.1 0-2 .9-2 2v14c0 1.1.9 2 2 2h14c1.1 0 2-.9 2-2V5c0-1.1-.9-2-2-2zM9 17H7v-7h2v7zm4 0h-2V7h2v10zm4 0h-2v-4h2v4z\"/>\n",
              "    </g>\n",
              "</svg>\n",
              "  </button>\n",
              "\n",
              "<style>\n",
              "  .colab-df-quickchart {\n",
              "      --bg-color: #E8F0FE;\n",
              "      --fill-color: #1967D2;\n",
              "      --hover-bg-color: #E2EBFA;\n",
              "      --hover-fill-color: #174EA6;\n",
              "      --disabled-fill-color: #AAA;\n",
              "      --disabled-bg-color: #DDD;\n",
              "  }\n",
              "\n",
              "  [theme=dark] .colab-df-quickchart {\n",
              "      --bg-color: #3B4455;\n",
              "      --fill-color: #D2E3FC;\n",
              "      --hover-bg-color: #434B5C;\n",
              "      --hover-fill-color: #FFFFFF;\n",
              "      --disabled-bg-color: #3B4455;\n",
              "      --disabled-fill-color: #666;\n",
              "  }\n",
              "\n",
              "  .colab-df-quickchart {\n",
              "    background-color: var(--bg-color);\n",
              "    border: none;\n",
              "    border-radius: 50%;\n",
              "    cursor: pointer;\n",
              "    display: none;\n",
              "    fill: var(--fill-color);\n",
              "    height: 32px;\n",
              "    padding: 0;\n",
              "    width: 32px;\n",
              "  }\n",
              "\n",
              "  .colab-df-quickchart:hover {\n",
              "    background-color: var(--hover-bg-color);\n",
              "    box-shadow: 0 1px 2px rgba(60, 64, 67, 0.3), 0 1px 3px 1px rgba(60, 64, 67, 0.15);\n",
              "    fill: var(--button-hover-fill-color);\n",
              "  }\n",
              "\n",
              "  .colab-df-quickchart-complete:disabled,\n",
              "  .colab-df-quickchart-complete:disabled:hover {\n",
              "    background-color: var(--disabled-bg-color);\n",
              "    fill: var(--disabled-fill-color);\n",
              "    box-shadow: none;\n",
              "  }\n",
              "\n",
              "  .colab-df-spinner {\n",
              "    border: 2px solid var(--fill-color);\n",
              "    border-color: transparent;\n",
              "    border-bottom-color: var(--fill-color);\n",
              "    animation:\n",
              "      spin 1s steps(1) infinite;\n",
              "  }\n",
              "\n",
              "  @keyframes spin {\n",
              "    0% {\n",
              "      border-color: transparent;\n",
              "      border-bottom-color: var(--fill-color);\n",
              "      border-left-color: var(--fill-color);\n",
              "    }\n",
              "    20% {\n",
              "      border-color: transparent;\n",
              "      border-left-color: var(--fill-color);\n",
              "      border-top-color: var(--fill-color);\n",
              "    }\n",
              "    30% {\n",
              "      border-color: transparent;\n",
              "      border-left-color: var(--fill-color);\n",
              "      border-top-color: var(--fill-color);\n",
              "      border-right-color: var(--fill-color);\n",
              "    }\n",
              "    40% {\n",
              "      border-color: transparent;\n",
              "      border-right-color: var(--fill-color);\n",
              "      border-top-color: var(--fill-color);\n",
              "    }\n",
              "    60% {\n",
              "      border-color: transparent;\n",
              "      border-right-color: var(--fill-color);\n",
              "    }\n",
              "    80% {\n",
              "      border-color: transparent;\n",
              "      border-right-color: var(--fill-color);\n",
              "      border-bottom-color: var(--fill-color);\n",
              "    }\n",
              "    90% {\n",
              "      border-color: transparent;\n",
              "      border-bottom-color: var(--fill-color);\n",
              "    }\n",
              "  }\n",
              "</style>\n",
              "\n",
              "  <script>\n",
              "    async function quickchart(key) {\n",
              "      const quickchartButtonEl =\n",
              "        document.querySelector('#' + key + ' button');\n",
              "      quickchartButtonEl.disabled = true;  // To prevent multiple clicks.\n",
              "      quickchartButtonEl.classList.add('colab-df-spinner');\n",
              "      try {\n",
              "        const charts = await google.colab.kernel.invokeFunction(\n",
              "            'suggestCharts', [key], {});\n",
              "      } catch (error) {\n",
              "        console.error('Error during call to suggestCharts:', error);\n",
              "      }\n",
              "      quickchartButtonEl.classList.remove('colab-df-spinner');\n",
              "      quickchartButtonEl.classList.add('colab-df-quickchart-complete');\n",
              "    }\n",
              "    (() => {\n",
              "      let quickchartButtonEl =\n",
              "        document.querySelector('#df-2bcaa874-a985-4685-8671-7e3277356b38 button');\n",
              "      quickchartButtonEl.style.display =\n",
              "        google.colab.kernel.accessAllowed ? 'block' : 'none';\n",
              "    })();\n",
              "  </script>\n",
              "</div>\n",
              "\n",
              "    </div>\n",
              "  </div>\n"
            ],
            "application/vnd.google.colaboratory.intrinsic+json": {
              "type": "dataframe",
              "variable_name": "last_month_expense",
              "summary": "{\n  \"name\": \"last_month_expense\",\n  \"rows\": 9,\n  \"fields\": [\n    {\n      \"column\": \"#\",\n      \"properties\": {\n        \"dtype\": \"number\",\n        \"std\": 2,\n        \"min\": 19,\n        \"max\": 27,\n        \"num_unique_values\": 9,\n        \"samples\": [\n          26,\n          20,\n          24\n        ],\n        \"semantic_type\": \"\",\n        \"description\": \"\"\n      }\n    },\n    {\n      \"column\": \"month\",\n      \"properties\": {\n        \"dtype\": \"date\",\n        \"min\": \"2023-03-01 00:00:00\",\n        \"max\": \"2023-03-01 00:00:00\",\n        \"num_unique_values\": 1,\n        \"samples\": [\n          \"2023-03-01 00:00:00\"\n        ],\n        \"semantic_type\": \"\",\n        \"description\": \"\"\n      }\n    },\n    {\n      \"column\": \"category\",\n      \"properties\": {\n        \"dtype\": \"category\",\n        \"num_unique_values\": 4,\n        \"samples\": [\n          \"Software Licenses\"\n        ],\n        \"semantic_type\": \"\",\n        \"description\": \"\"\n      }\n    },\n    {\n      \"column\": \"item\",\n      \"properties\": {\n        \"dtype\": \"string\",\n        \"num_unique_values\": 9,\n        \"samples\": [\n          \"Office Supplies\"\n        ],\n        \"semantic_type\": \"\",\n        \"description\": \"\"\n      }\n    },\n    {\n      \"column\": \"amount\",\n      \"properties\": {\n        \"dtype\": \"number\",\n        \"std\": 3512,\n        \"min\": 540,\n        \"max\": 10000,\n        \"num_unique_values\": 9,\n        \"samples\": [\n          600\n        ],\n        \"semantic_type\": \"\",\n        \"description\": \"\"\n      }\n    }\n  ]\n}"
            }
          },
          "metadata": {},
          "execution_count": 2
        }
      ]
    },
    {
      "cell_type": "code",
      "source": [
        "# Sales Expense\n",
        "cond = last_month_expense['item'] == 'Salesforce'\n",
        "sales_expense = last_month_expense[cond]['amount'].sum()\n",
        "\n",
        "print('Total salse expense:', sales_expense)"
      ],
      "metadata": {
        "colab": {
          "base_uri": "https://localhost:8080/"
        },
        "id": "TTRxy51fK6xv",
        "outputId": "61910c60-b9ac-436d-de1e-fed1574e7624"
      },
      "execution_count": 3,
      "outputs": [
        {
          "output_type": "stream",
          "name": "stdout",
          "text": [
            "Total salse expense: 1700\n"
          ]
        }
      ]
    },
    {
      "cell_type": "markdown",
      "source": [
        "## 1.2. Sales and Marketing Payroll\n",
        "\n",
        "We will calcualte last month **sales and marketing salaries** which can be found in **Payroll dataframe**\n",
        "\n",
        "We only calculate the payroll for Sales and Marketing department"
      ],
      "metadata": {
        "id": "07KqL_fFPLoV"
      }
    },
    {
      "cell_type": "code",
      "source": [
        "# Last month payroll\n",
        "\n",
        "cond = Payroll['month'].dt.month == last_month\n",
        "last_month_payroll = Payroll[cond]\n",
        "last_month_payroll.head()\n",
        "\n",
        "# Total Sales and Marketing payroll\n",
        "sales_mkt_dept = ['Sales', 'Marketing']\n",
        "cond2 = last_month_payroll['department'].isin(sales_mkt_dept)\n",
        "sales_mkt_payroll = last_month_payroll[cond2]['paid'].sum()\n",
        "print('Total sales and marketing salary:',sales_mkt_payroll)"
      ],
      "metadata": {
        "colab": {
          "base_uri": "https://localhost:8080/"
        },
        "id": "BrjBMbrqLqZQ",
        "outputId": "e39b6c27-d5d5-47f5-b40e-78e4fe68938d"
      },
      "execution_count": 4,
      "outputs": [
        {
          "output_type": "stream",
          "name": "stdout",
          "text": [
            "Total sales and marketing salary: 5950\n"
          ]
        }
      ]
    },
    {
      "cell_type": "markdown",
      "source": [
        "## 1.3. Marketing Spending\n",
        "\n",
        "We will calculate **last month total marketing spending** based on **daily_marketing_spendings** dataframe"
      ],
      "metadata": {
        "id": "uwfD2VKjPUIa"
      }
    },
    {
      "cell_type": "code",
      "source": [
        "# Last month marketing spending\n",
        "\n",
        "cond = daily_marketing_spendings['date'].dt.month == last_month\n",
        "last_month_marketing_spendings = daily_marketing_spendings[cond]['spending'].sum()\n",
        "print('Total marketing spending:',last_month_marketing_spendings)"
      ],
      "metadata": {
        "colab": {
          "base_uri": "https://localhost:8080/"
        },
        "id": "DTBh879jPYLR",
        "outputId": "98207652-eae0-4f13-d742-c97877755a66"
      },
      "execution_count": 5,
      "outputs": [
        {
          "output_type": "stream",
          "name": "stdout",
          "text": [
            "Total marketing spending: 68830\n"
          ]
        }
      ]
    },
    {
      "cell_type": "markdown",
      "source": [
        "## 1.4. Total New Customer\n",
        "\n",
        "We calculate **last month new customers** based on the **receipts_history** dataframe"
      ],
      "metadata": {
        "id": "w6oIOyKQP-qf"
      }
    },
    {
      "cell_type": "code",
      "source": [
        "# Last month receipts history\n",
        "\n",
        "cond = receipts_history['date'].dt.month == last_month\n",
        "\n",
        "# Last month new customers\n",
        "\n",
        "last_month_new_customer = receipts_history[cond]['new_customer'].sum()\n",
        "print('Last month new customers:',last_month_new_customer)"
      ],
      "metadata": {
        "colab": {
          "base_uri": "https://localhost:8080/"
        },
        "id": "bC4kuHyrPoH1",
        "outputId": "f3a78124-d2f8-47c3-eaea-cd1d9c8ab34d"
      },
      "execution_count": 6,
      "outputs": [
        {
          "output_type": "stream",
          "name": "stdout",
          "text": [
            "Last month new customers: 63\n"
          ]
        }
      ]
    },
    {
      "cell_type": "markdown",
      "source": [
        "## 1.5. CAC (Customer Acquisition Cost)"
      ],
      "metadata": {
        "id": "QgZqPK5TQlHj"
      }
    },
    {
      "cell_type": "code",
      "source": [
        "CAC = (sales_expense + sales_mkt_payroll + last_month_marketing_spendings) / last_month_new_customer\n",
        "print('Customer acquisition cost:',CAC)"
      ],
      "metadata": {
        "colab": {
          "base_uri": "https://localhost:8080/"
        },
        "id": "_T9NXCdUQb_B",
        "outputId": "60ae7d02-156f-481d-d43c-2b65b18613a3"
      },
      "execution_count": 7,
      "outputs": [
        {
          "output_type": "stream",
          "name": "stdout",
          "text": [
            "Customer acquisition cost: 1213.968253968254\n"
          ]
        }
      ]
    },
    {
      "cell_type": "markdown",
      "source": [
        "**It costs $1,213 to acquire each new customer.**"
      ],
      "metadata": {
        "id": "M8C6f_9sMntE"
      }
    },
    {
      "cell_type": "markdown",
      "source": [
        "# 2. ARPU (Average Revenue per User)"
      ],
      "metadata": {
        "id": "Wm4E9Cv7RXfJ"
      }
    },
    {
      "cell_type": "markdown",
      "source": [
        "## 2.1. Total revenue\n",
        "\n",
        "We calculate **last month total revenue** based on the **receipts_history** dataframe by using data from **receipt_amount** column"
      ],
      "metadata": {
        "id": "_V3tWE4LRxdj"
      }
    },
    {
      "cell_type": "code",
      "source": [],
      "metadata": {
        "id": "MhxdzMMtSpzo"
      },
      "execution_count": null,
      "outputs": []
    },
    {
      "cell_type": "code",
      "source": [
        "# Last month receipts history\n",
        "\n",
        "cond = receipts_history['date'].dt.month == last_month\n",
        "\n",
        "# Last month total revenue\n",
        "\n",
        "last_month_total_revenue = receipts_history[cond]['receipt_amount'].sum()\n",
        "print('Last month total revenue:',last_month_total_revenue)"
      ],
      "metadata": {
        "colab": {
          "base_uri": "https://localhost:8080/"
        },
        "id": "KOP0JtmsQu6m",
        "outputId": "c7e7f41d-f08c-49da-dda8-0f0ed569d3f9"
      },
      "execution_count": 8,
      "outputs": [
        {
          "output_type": "stream",
          "name": "stdout",
          "text": [
            "Last month total revenue: 83033\n"
          ]
        }
      ]
    },
    {
      "cell_type": "markdown",
      "source": [
        "## 2.2. Total users\n",
        "\n",
        "We will calculate **last month total customers** based on the **receipts_history** dataframe\n",
        "\n",
        "We only take into account the active customers, so we have to count the **unique customers**."
      ],
      "metadata": {
        "id": "YHkcWmXCVDCe"
      }
    },
    {
      "cell_type": "code",
      "source": [
        "# Last month total users\n",
        "\n",
        "last_month_total_users = receipts_history[cond]['customer_id'].nunique()\n",
        "print('Last month total users:',last_month_total_users)"
      ],
      "metadata": {
        "colab": {
          "base_uri": "https://localhost:8080/"
        },
        "id": "Blpt7Ga3Si6P",
        "outputId": "01cf61f1-bf7e-4729-a269-e210b8a2122c"
      },
      "execution_count": 9,
      "outputs": [
        {
          "output_type": "stream",
          "name": "stdout",
          "text": [
            "Last month total users: 292\n"
          ]
        }
      ]
    },
    {
      "cell_type": "markdown",
      "source": [
        "## 2.3. ARPU Calculation\n",
        "\n",
        "ARPU = Total Revenue / Total number of users"
      ],
      "metadata": {
        "id": "no87j5VWVUEZ"
      }
    },
    {
      "cell_type": "code",
      "source": [
        "# ARPU\n",
        "\n",
        "ARPU = last_month_total_revenue / last_month_total_users\n",
        "print('Average revenue per user:',ARPU)"
      ],
      "metadata": {
        "colab": {
          "base_uri": "https://localhost:8080/"
        },
        "id": "C5OHFsnUSrSk",
        "outputId": "8d497828-d0c1-4d8d-bd37-e964998a15e2"
      },
      "execution_count": 10,
      "outputs": [
        {
          "output_type": "stream",
          "name": "stdout",
          "text": [
            "Average revenue per user: 284.3595890410959\n"
          ]
        }
      ]
    },
    {
      "cell_type": "markdown",
      "source": [
        "# 3. COGS (Cost of goods sold)"
      ],
      "metadata": {
        "id": "JEUO9JJpZlqH"
      }
    },
    {
      "cell_type": "markdown",
      "source": [
        "## 3.1. Sever and Software Expenses\n",
        "\n",
        "We calculate **Sever and Software Expenses** based on the **monthly_expenses** dataframe.\n",
        "\n",
        "We only take into account the **softwares contribute to make the final product**, which are: 'AWS Hosting', 'Google Cloud Storage', 'Atlassian Jira', 'Slack', 'Zoom'"
      ],
      "metadata": {
        "id": "dihNn2VUZ2n_"
      }
    },
    {
      "cell_type": "code",
      "source": [
        "# Total last month sever and software expenses\n",
        "\n",
        "last_month_sever_software = last_month_expense[last_month_expense['item'].isin(['AWS Hosting', 'Google Cloud Storage', 'Atlassian Jira', 'Slack', 'Zoom'])]['amount'].sum()\n",
        "print('Total last month sever and software expenses:',last_month_sever_software)"
      ],
      "metadata": {
        "colab": {
          "base_uri": "https://localhost:8080/"
        },
        "id": "BxzRNc_xU-oU",
        "outputId": "19536acb-9319-4014-d065-ee27da77b4f4"
      },
      "execution_count": 11,
      "outputs": [
        {
          "output_type": "stream",
          "name": "stdout",
          "text": [
            "Total last month sever and software expenses: 15640\n"
          ]
        }
      ]
    },
    {
      "cell_type": "markdown",
      "source": [
        "## 3.2. Production Expenses\n",
        "\n",
        "We calcualte the **production expense** based on the **payroll** dataframe\n",
        "\n",
        "We onnly calculate the **Engineering department** because they directly join in making the product"
      ],
      "metadata": {
        "id": "3hCq60Rfa1ZY"
      }
    },
    {
      "cell_type": "code",
      "source": [
        "# Total last month production salary\n",
        "\n",
        "last_month_production_salary = last_month_payroll[last_month_payroll['department'] == 'Engineering']['paid'].sum()\n",
        "print('Total last month production salary:',last_month_production_salary)"
      ],
      "metadata": {
        "colab": {
          "base_uri": "https://localhost:8080/"
        },
        "id": "_w53KQy7azya",
        "outputId": "94140766-d343-4e64-a4ed-f39c32c6b589"
      },
      "execution_count": 12,
      "outputs": [
        {
          "output_type": "stream",
          "name": "stdout",
          "text": [
            "Total last month production salary: 5200\n"
          ]
        }
      ]
    },
    {
      "cell_type": "markdown",
      "source": [
        "## 3.3. COGS Calculation"
      ],
      "metadata": {
        "id": "ttrWc0rabcyM"
      }
    },
    {
      "cell_type": "code",
      "source": [
        "# COGS Calculation\n",
        "\n",
        "COGS = last_month_sever_software + last_month_production_salary\n",
        "print('Cost of goods sold:',COGS)"
      ],
      "metadata": {
        "colab": {
          "base_uri": "https://localhost:8080/"
        },
        "id": "oOCw258FbYDs",
        "outputId": "e4e68b6e-efae-483b-aaa4-2d402f86e9a3"
      },
      "execution_count": 13,
      "outputs": [
        {
          "output_type": "stream",
          "name": "stdout",
          "text": [
            "Cost of goods sold: 20840\n"
          ]
        }
      ]
    },
    {
      "cell_type": "markdown",
      "source": [
        "# 4. Gross Margin\n",
        "\n",
        "Gross Margin = (Total Revenue - COGS) / Total Revenue"
      ],
      "metadata": {
        "id": "1MBNTJwKcv-G"
      }
    },
    {
      "cell_type": "code",
      "source": [
        "# Gross margin\n",
        "\n",
        "GM = (last_month_total_revenue - COGS)/last_month_total_revenue\n",
        "print('Gross margin:',GM)"
      ],
      "metadata": {
        "colab": {
          "base_uri": "https://localhost:8080/"
        },
        "id": "K2avIB9LbnQQ",
        "outputId": "09b88bbc-0c44-4911-fd46-83aa97ba6a30"
      },
      "execution_count": 14,
      "outputs": [
        {
          "output_type": "stream",
          "name": "stdout",
          "text": [
            "Gross margin: 0.7490154516878831\n"
          ]
        }
      ]
    },
    {
      "cell_type": "markdown",
      "source": [
        "# 5. LTV (Customer Lifespan Value)\n",
        "\n",
        "**LTV = ARPU * Average Lifespan * Gross Margin**\n",
        "\n",
        "**ARPU**: already calculated\n",
        "\n",
        "**Average lifespan**: we calculate based on the customer_lifespan_data dataframe by calculating the monthly average lifespan\n",
        "\n",
        "**Gross Margin**: already calculated\n"
      ],
      "metadata": {
        "id": "9tjadf3neqNL"
      }
    },
    {
      "cell_type": "code",
      "source": [
        "# Average customer\n",
        "\n",
        "customer_lifespan_data['lifespan'] = customer_lifespan_data['churn_date'] - customer_lifespan_data['start_date']\n",
        "customer_lifespan_data['lifespan'] = customer_lifespan_data['lifespan'].dt.days\n",
        "average_lifespan = (customer_lifespan_data['lifespan'].mean())/30\n",
        "print('Average customer lifespan:',average_lifespan)"
      ],
      "metadata": {
        "colab": {
          "base_uri": "https://localhost:8080/"
        },
        "id": "dMj1jsync4Ug",
        "outputId": "c26fd1db-20f4-40e9-bd77-346ce47ebe53"
      },
      "execution_count": 15,
      "outputs": [
        {
          "output_type": "stream",
          "name": "stdout",
          "text": [
            "Average customer lifespan: 9.841333333333333\n"
          ]
        }
      ]
    },
    {
      "cell_type": "code",
      "source": [
        "# LTV calculation\n",
        "\n",
        "LTV = ARPU * average_lifespan * GM\n",
        "print('Customer lifespan value:',LTV)"
      ],
      "metadata": {
        "colab": {
          "base_uri": "https://localhost:8080/"
        },
        "id": "38co9kESfBva",
        "outputId": "e6a2862d-f587-4ff0-d32e-fca91df61118"
      },
      "execution_count": 16,
      "outputs": [
        {
          "output_type": "stream",
          "name": "stdout",
          "text": [
            "Customer lifespan value: 2096.102890410959\n"
          ]
        }
      ]
    },
    {
      "cell_type": "markdown",
      "source": [
        "# 6. LTV/CAC"
      ],
      "metadata": {
        "id": "z6lZfI7Dfb8P"
      }
    },
    {
      "cell_type": "code",
      "source": [
        "# LTV/CAC calculation\n",
        "\n",
        "LTV_CAC = LTV/CAC\n",
        "print('LTV/CAC:',LTV_CAC)"
      ],
      "metadata": {
        "colab": {
          "base_uri": "https://localhost:8080/"
        },
        "id": "RPcYIAzXfYl0",
        "outputId": "a6dba4ef-16b6-497a-a9dc-f3e544ba60c0"
      },
      "execution_count": 17,
      "outputs": [
        {
          "output_type": "stream",
          "name": "stdout",
          "text": [
            "LTV/CAC: 1.7266537930948014\n"
          ]
        }
      ]
    },
    {
      "cell_type": "markdown",
      "source": [
        "**LTV/CAC > 1 indicates that the company is generating more revenue from customers than it costs to accquire them. This is a positive sign, suggesting profitability and sustainable growth**"
      ],
      "metadata": {
        "id": "Riy_Z7PuNsVX"
      }
    }
  ]
}